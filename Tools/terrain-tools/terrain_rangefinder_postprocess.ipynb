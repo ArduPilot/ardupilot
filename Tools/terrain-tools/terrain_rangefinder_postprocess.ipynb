{
  "cells": [
    {
      "cell_type": "markdown",
      "metadata": {
        "id": "dFL-4zm71nXy"
      },
      "source": [
        "Edit the below cell's `input_log` variable to the path to your BIN (dataflash) log.\n",
        "The BIN log parser currently assumes the first rangefinder is downward facing."
      ]
    },
    {
      "cell_type": "code",
      "execution_count": null,
      "metadata": {
        "colab": {
          "base_uri": "https://localhost:8080/"
        },
        "id": "Fe6nKFqR1zKo",
        "outputId": "14f89469-d92d-4167-a9eb-136727f30118"
      },
      "outputs": [],
      "source": [
        "!pip install pymavlink\n",
        "!pip install ipympl\n",
        "!pip install open3d\n",
        "!pip install plotly\n",
        "!pip install pandas"
      ]
    },
    {
      "cell_type": "code",
      "execution_count": 44,
      "metadata": {
        "id": "nL-VodDM1nX0"
      },
      "outputs": [],
      "source": [
        "\n",
        "from dataclasses import dataclass\n",
        "from collections import namedtuple\n",
        "from datetime import datetime\n",
        "import math\n",
        "import pandas as pd\n",
        "from pathlib import Path\n",
        "from pymavlink import mavutil\n",
        "from pyproj import Geod\n",
        "from scipy.spatial.transform import Rotation as R\n",
        "\n",
        "\n",
        "input_log = Path(\"00000026.BIN\")\n",
        "stem = input_log.stem  # '00000024' from '00000024.BIN'\n",
        "output_csv = Path(f\"projected_{stem}.csv\")\n",
        "\n",
        "# Open .bin log\n",
        "log = mavutil.mavlink_connection(str(input_log))\n",
        "\n",
        "# Create a geodesic calculator\n",
        "geod = Geod(ellps='WGS84')\n",
        "\n",
        "# Store messages as lists of tuples\n",
        "attitudes = []\n",
        "ahrs_positions = []\n",
        "rangefinder = []\n",
        "terrain_data = []\n",
        "\n",
        "\n",
        "Ahrs = namedtuple(\"Ahrs\", [\"timestamp\", \"lat\", \"lon\", \"alt\", \"roll\", \"pitch\", \"yaw\"])\n",
        "Rangefinder = namedtuple(\"Rangefinder\", [\"timestamp\", \"distance\"])\n",
        "Terrain = namedtuple(\"Terrain\", [\"timestamp\", \"terr_height\"])\n",
        "\n",
        "@dataclass\n",
        "class GroundPoint:\n",
        "    timestamp: float\n",
        "    rng_lat: float\n",
        "    rng_lon: float\n",
        "    rng_elev: float\n",
        "    ahrs_lat: float\n",
        "    ahrs_lon: float\n",
        "    ahrs_alt: float\n",
        "    distance: float\n",
        "    terr_height: float\n",
        "\n",
        "\n",
        "while True:\n",
        "    msg = log.recv_match(blocking=False)\n",
        "    if msg is None:\n",
        "        break\n",
        "\n",
        "    t = datetime.fromtimestamp(msg._timestamp)\n",
        "    mtype = msg.get_type()\n",
        "\n",
        "    if msg.get_type() == \"AHR2\":\n",
        "        # Lat and Lon in degrees, alt in m\n",
        "        ahrs_positions.append(Ahrs(\n",
        "            timestamp=t,\n",
        "            lat=msg.Lat,\n",
        "            lon=msg.Lng,\n",
        "            alt=msg.Alt,\n",
        "            roll=math.radians(msg.Roll),\n",
        "            pitch=math.radians(msg.Pitch),\n",
        "            yaw=math.radians(msg.Yaw),\n",
        "        ))\n",
        "    elif msg.get_type() == \"RFND\" and msg.Stat == 4: # Only use healthy readings, see AP_Rangefinder::Status::Good\n",
        "        rangefinder.append(Rangefinder(\n",
        "            timestamp=t,\n",
        "            distance=msg.Dist\n",
        "        ))\n",
        "    elif msg.get_type() == \"TERR\":\n",
        "        terrain_data.append(Terrain(\n",
        "            timestamp=t,\n",
        "            terr_height=msg.TerrH\n",
        "        ))\n",
        "\n",
        "ahrs_df = pd.DataFrame(ahrs_positions).set_index(\"timestamp\").sort_index()\n",
        "rfnd_df = pd.DataFrame(rangefinder).set_index(\"timestamp\").sort_index()\n",
        "# terr_df = pd.DataFrame(terrain_data).set_index(\"timestamp\").sort_index()"
      ]
    },
    {
      "cell_type": "code",
      "execution_count": 45,
      "metadata": {
        "id": "jTHbvf8N1nX1"
      },
      "outputs": [],
      "source": [
        "# Compute estimated ground points\n",
        "ground_points: list[GroundPoint] = []\n",
        "\n",
        "assert ahrs_positions, \"No AHR2 messages found\"\n",
        "assert rangefinder, \"No valid RFND messages found\"\n",
        "# assert terrain_data, \"No TERR messages found\"\n",
        "\n",
        "for t, row in rfnd_df.iterrows():\n",
        "    dist = row.distance\n",
        "\n",
        "    # Efficient nearest neighbor lookup with .asof() for datetime index\n",
        "    try:\n",
        "        ahrs_row = ahrs_df.loc[ahrs_df.index.asof(t)]\n",
        "        # terr_row = terr_df.loc[terr_df.index.asof(t)]\n",
        "    except KeyError:\n",
        "        continue  # skip if no data available at or before timestamp\n",
        "\n",
        "    # Unpack required fields\n",
        "    lat, lon, alt, roll, pitch, yaw  = ahrs_row.lat, ahrs_row.lon, ahrs_row.alt, ahrs_row.roll, ahrs_row.pitch, ahrs_row.yaw\n",
        "    # terr_height = terr_row.terr_height\n",
        "\n",
        "    # Build the rotation using Euler angles (in radians)\n",
        "    rotation = R.from_euler('zyx', [yaw, pitch, roll])\n",
        "\n",
        "    # Rotate the down vector (in body frame)\n",
        "    ned_vector = rotation.apply([0, 0, dist])\n",
        "\n",
        "    # Calculate ground point in NED frame\n",
        "    north_offset = ned_vector[0]\n",
        "    east_offset = ned_vector[1]\n",
        "    down_offset = ned_vector[2]\n",
        "\n",
        "    ground_alt = alt - down_offset  # down_offset is positive, so subtract it to get estimated ground height\n",
        "\n",
        "    # Project horizontal lat/lon offset\n",
        "    azimuth = math.degrees(math.atan2(east_offset, north_offset))\n",
        "    horizontal_distance = math.hypot(north_offset, east_offset)\n",
        "    g_lon, g_lat, _ = geod.fwd(lon, lat, azimuth, horizontal_distance)\n",
        "\n",
        "    ground_points.append(GroundPoint(\n",
        "        timestamp=t,\n",
        "        rng_lat=g_lat,\n",
        "        rng_lon=g_lon,\n",
        "        rng_elev=ground_alt,\n",
        "        ahrs_lat=lat,\n",
        "        ahrs_lon=lon,\n",
        "        ahrs_alt=alt,\n",
        "        distance=dist,\n",
        "        terr_height=math.nan\n",
        "    ))\n",
        "\n",
        "if not ground_points:\n",
        "    print(\"Error: No projected ground point data found.\")\n",
        "    exit(1)"
      ]
    },
    {
      "cell_type": "code",
      "execution_count": 46,
      "metadata": {
        "id": "1o7M_2uL1nX2"
      },
      "outputs": [],
      "source": [
        "# Convert to DataFrame\n",
        "\n",
        "import pandas as pd\n",
        "\n",
        "df = pd.DataFrame([gp.__dict__ for gp in ground_points])"
      ]
    },
    {
      "cell_type": "code",
      "execution_count": 47,
      "metadata": {
        "colab": {
          "base_uri": "https://localhost:8080/"
        },
        "id": "r94q6Rk31nX2",
        "outputId": "5cb42235-a8a7-49db-a8df-3327bc31bb82"
      },
      "outputs": [
        {
          "name": "stdout",
          "output_type": "stream",
          "text": [
            "Latitude range: (40.05316186681585,40.057205709321124)\n",
            "Longitude range: (-105.29139324579846,-105.28702229932495)\n"
          ]
        }
      ],
      "source": [
        "# Get the latitude/longitude extent for input to OpenTopography\n",
        "\n",
        "min_lat = df[\"rng_lat\"].min()\n",
        "max_lat = df[\"rng_lat\"].max()\n",
        "min_lon = df[\"rng_lon\"].min()\n",
        "max_lon = df[\"rng_lon\"].max()\n",
        "\n",
        "assert min_lat < max_lat\n",
        "assert min_lon < max_lon\n",
        "\n",
        "print(f\"Latitude range: ({min_lat},{max_lat})\")\n",
        "print(f\"Longitude range: ({min_lon},{max_lon})\")\n"
      ]
    },
    {
      "cell_type": "markdown",
      "metadata": {
        "id": "WACdngLs1nX3"
      },
      "source": [
        "To compare to other elevation data sources, these must be manually downloaded from OpenTopography.\n",
        "Once extracted into this directory, rename them and update paths in the below block.\n",
        "Add as many datasets for comparison as you like. GDAL supports many different file formats."
      ]
    },
    {
      "cell_type": "code",
      "execution_count": 48,
      "metadata": {
        "colab": {
          "base_uri": "https://localhost:8080/"
        },
        "id": "v3dwD7161nX3",
        "outputId": "83cb96e9-6791-40b9-bdac-46c9eb45a7ec"
      },
      "outputs": [],
      "source": [
        "\n",
        "# Load elevation from GeoTIFF using GDAL\n",
        "\n",
        "from osgeo import gdal\n",
        "\n",
        "dataset_paths = [\"/vsizip/vsicurl/https://terrain.ardupilot.org/SRTM1/ap_srtm1.zip/ap_srtm1.vrt\"]\n",
        "for dataset_path in dataset_paths:\n",
        "    dataset = gdal.Open(str(dataset_path))\n",
        "    assert dataset is not None, f\"Dataset '{dataset_path}' failed to load\"\n",
        "    band = dataset.GetRasterBand(1)\n",
        "    transform = dataset.GetGeoTransform()\n",
        "\n",
        "    # Convert lat/lon to row/col\n",
        "    def latlon_to_rowcol(lat, lon):\n",
        "        inv_transform = gdal.InvGeoTransform(transform)\n",
        "        px, py = gdal.ApplyGeoTransform(inv_transform, lon, lat)\n",
        "        return int(py), int(px)\n",
        "\n",
        "    elevations = []\n",
        "    for _, row in df.iterrows():\n",
        "        r, c = latlon_to_rowcol(row.rng_lat, row.rng_lon)\n",
        "        grid = band.ReadAsArray(c, r, 1, 1)\n",
        "        if grid is not None:\n",
        "            elevation = grid[0][0]\n",
        "        else:\n",
        "            # Out of range of the dataset, common with LOG_REPLAY before the EKF initializes\n",
        "            elevation = math.nan\n",
        "        elevations.append(elevation)\n",
        "\n",
        "    df[\"ap_srtm1_elevation\"] = elevations"
      ]
    },
    {
      "cell_type": "code",
      "execution_count": null,
      "metadata": {
        "colab": {
          "base_uri": "https://localhost:8080/",
          "height": 686
        },
        "id": "n2RH_ODm1nX3",
        "outputId": "0c6206ad-a868-4b10-ad49-654eb9141000"
      },
      "outputs": [],
      "source": [
        "# plot using plotly, good for smaller logs (<30 minutes)\n",
        "\n",
        "import plotly.graph_objs as go\n",
        "\n",
        "fig = go.Figure()\n",
        "for col in df.columns:\n",
        "    stems = [f\"ap_srtm1_elevation\" for p in dataset_paths]\n",
        "    cols = (\"ahrs_alt\", \"rng_elev\", \"terr_height\", \"ap_srtm1_elevation\")\n",
        "    if col in cols:\n",
        "        print(f\"Adding {col}\")\n",
        "        y = pd.to_numeric(df[col], errors='coerce')\n",
        "\n",
        "        fig.add_trace(go.Scattergl(x=df[\"timestamp\"], y=y, mode='lines+markers', name=col))\n",
        "\n",
        "fig.update_layout(title=f\"Terrain Comparison Over Time for {stem}\", xaxis_title=\"Time\", yaxis_title=\"Altitude (m)\", height=600)\n",
        "fig.show()"
      ]
    },
    {
      "cell_type": "code",
      "execution_count": null,
      "metadata": {
        "colab": {
          "base_uri": "https://localhost:8080/",
          "height": 542
        },
        "id": "N58pJ4Y2rAVs",
        "outputId": "5369169f-ad8b-44ac-c331-2f2f16020f9a"
      },
      "outputs": [],
      "source": [
        "import plotly.graph_objects as go\n",
        "import numpy as np\n",
        "from scipy import stats\n",
        "import open3d as o3d\n",
        "from pyproj import Transformer\n",
        "\n",
        "\n",
        "# column_names = df.iloc[0]\n",
        "# df.columns = column_names\n",
        "# df = df.iloc[1:].reset_index(drop=True)\n",
        "# print(df)\n",
        "\n",
        "### basic thresholding and filtering\n",
        "ndf = df[df[\"rng_elev\"] >= 0]\n",
        "ndf[[\"rng_lon\", \"rng_lat\", \"rng_elev\"]].map(np.isreal)\n",
        "\n",
        "# sample = ndf.sample(100)\n",
        "# print(ndf[[\"rng_lon\", \"rng_lat\", \"rng_elev\"]].isnull().sum())\n",
        "\n",
        "### Save to CSV\n",
        "fig = go.Figure(data=[go.Scatter3d(\n",
        "    x=ndf[\"rng_lon\"],\n",
        "    y=ndf[\"rng_lat\"],\n",
        "    z=ndf[\"rng_elev\"],\n",
        "    mode='markers',\n",
        "    marker=dict(size=4, color=ndf[\"rng_elev\"], colorscale='Viridis', opacity=0.8)\n",
        ")])\n",
        "\n",
        "fig.update_layout(scene=dict(\n",
        "    xaxis_title='Longitude',\n",
        "    yaxis_title='Latitude',\n",
        "    zaxis_title='Elevation'\n",
        "))\n",
        "\n",
        "### plotted without any filtering, so it will be noisy\n",
        "fig.show()\n",
        "\n",
        "### convert to numpy -> o3d pcl\n",
        "coords = ndf[['rng_lat', 'rng_lon', 'rng_elev']].to_numpy()\n",
        "\n",
        "## conversion to ECEF coordinates for o3d\n",
        "transformer = Transformer.from_crs(\"epsg:4326\", \"epsg:4978\", always_xy=True)\n",
        "x, y, z = transformer.transform(coords[:,1], coords[:,0], coords[:,2])\n",
        "points = np.vstack((x, y, z)).T\n",
        "\n",
        "pcd = o3d.geometry.PointCloud()\n",
        "pcd.points = o3d.utility.Vector3dVector(points)\n",
        "\n",
        "\n",
        "### downsampling, outlier removal\n",
        "vdpcd = pcd.voxel_down_sample(voxel_size=2)\n",
        "\n",
        "cl, ind = vdpcd.remove_statistical_outlier(nb_neighbors=20,std_ratio=2.0)\n",
        "\n",
        "iclStd = vdpcd.select_by_index(ind)\n",
        "oclStd = vdpcd.select_by_index(ind, invert=True)\n",
        "\n",
        "cl, ind = iclStd.remove_radius_outlier(nb_points=5, radius=5)\n",
        "icl = iclStd.select_by_index(ind)\n",
        "ocl = iclStd.select_by_index(ind, invert=True)\n",
        "\n",
        "ocl.paint_uniform_color([1, 0, 0])\n",
        "icl.paint_uniform_color([0.8, 0.8, 0.8])\n",
        "iclStd.paint_uniform_color([0.6, 0.6, 0.6])\n",
        "oclStd.paint_uniform_color([1, 0, 0])\n",
        "o3d.visualization.draw_geometries([icl, ocl,oclStd])\n",
        "\n",
        "### uncomment if want to see voxel grid for later navigation tasks if required\n",
        "\n",
        "# voxel_grid = o3d.geometry.VoxelGrid.create_from_point_cloud(pcd, voxel_size=2)\n",
        "# o3d.visualization.draw_geometries([voxel_grid])\n",
        "\n"
      ]
    },
    {
      "cell_type": "code",
      "execution_count": null,
      "metadata": {},
      "outputs": [],
      "source": [
        "# to np array and normalize and center the pcl\n",
        "points = np.asarray(pcd.points)\n",
        "\n",
        "centroid = np.mean(points, axis=0)\n",
        "points_centered = points - centroid\n",
        "\n",
        "max_distance = np.max(np.linalg.norm(points_centered, axis=1))\n",
        "min_distance = np.max(np.linalg.norm(points_centered, axis=1))\n",
        "\n",
        "points_normalized = points_centered / max_distance\n",
        "\n",
        "\n",
        "fig = go.Figure(data=[go.Scatter3d(\n",
        "    x=points_normalized[:, 0],\n",
        "    y=points_normalized[:, 1],\n",
        "    z=points_normalized[:, 2],\n",
        "    mode='markers',\n",
        "    marker=dict(size=1)\n",
        ")])\n",
        "fig.update_layout(scene=dict(\n",
        "    xaxis_title='X',\n",
        "    yaxis_title='Y',\n",
        "    zaxis_title='Z'\n",
        "))\n",
        "\n",
        "print(points_normalized[:, 0])\n",
        "fig.show()"
      ]
    },
    {
      "cell_type": "code",
      "execution_count": 52,
      "metadata": {
        "colab": {
          "base_uri": "https://localhost:8080/"
        },
        "id": "e1b4L2okrqDp",
        "outputId": "e1a5f263-e8fb-473a-bfdb-a4442cf3a186"
      },
      "outputs": [],
      "source": [
        "# compare with SRTM elevation\n",
        "df[\"delta\"] = df[\"rng_elev\"] - df[\"ap_srtm1_elevation\"]"
      ]
    },
    {
      "cell_type": "code",
      "execution_count": null,
      "metadata": {
        "id": "6CiP_8KZ1nX4"
      },
      "outputs": [],
      "source": [
        "# Save plot\n",
        "\n",
        "import plotly.io as pio\n",
        "pio.write_html(fig, f'terrain_pyplot_{stem}.html')"
      ]
    },
    {
      "cell_type": "code",
      "execution_count": 53,
      "metadata": {
        "id": "2j0WWaZS3oIz"
      },
      "outputs": [],
      "source": [
        "# save to CSV to visualize on QGIS or other tools\n",
        "df.to_csv('output.csv', index=False)\n"
      ]
    }
  ],
  "metadata": {
    "colab": {
      "provenance": []
    },
    "kernelspec": {
      "display_name": "ap_terrain",
      "language": "python",
      "name": "python3"
    },
    "language_info": {
      "codemirror_mode": {
        "name": "ipython",
        "version": 3
      },
      "file_extension": ".py",
      "mimetype": "text/x-python",
      "name": "python",
      "nbconvert_exporter": "python",
      "pygments_lexer": "ipython3",
      "version": "3.10.16"
    }
  },
  "nbformat": 4,
  "nbformat_minor": 0
}
